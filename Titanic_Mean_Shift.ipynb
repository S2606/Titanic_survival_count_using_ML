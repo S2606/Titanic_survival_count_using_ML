{
 "cells": [
  {
   "cell_type": "code",
   "execution_count": 26,
   "metadata": {
    "collapsed": false,
    "deletable": true,
    "editable": true
   },
   "outputs": [],
   "source": [
    "import numpy as np\n",
    "from sklearn.cluster import MeanShift, KMeans\n",
    "from sklearn import preprocessing, cross_validation\n",
    "import pandas as pd\n",
    "import matplotlib.pyplot as plt"
   ]
  },
  {
   "cell_type": "code",
   "execution_count": 27,
   "metadata": {
    "collapsed": false,
    "deletable": true,
    "editable": true
   },
   "outputs": [],
   "source": [
    "df = pd.read_excel('titanic.xls')\n",
    "#for referencing the non-numerical part\n",
    "original_df = pd.DataFrame.copy(df)\n",
    "df.drop(['body','name'], 1, inplace=True)\n",
    "df.fillna(0,inplace=True)"
   ]
  },
  {
   "cell_type": "code",
   "execution_count": 28,
   "metadata": {
    "collapsed": true,
    "deletable": true,
    "editable": true
   },
   "outputs": [],
   "source": [
    "def handle_non_numerical_data(df):#Mapping for non-numeric data\n",
    "    columns = df.columns.values\n",
    "    for column in columns:\n",
    "        text_digit_vals = {}\n",
    "        def convert_to_int(val):\n",
    "            return text_digit_vals[val]\n",
    "\n",
    "        if df[column].dtype != np.int64 and df[column].dtype != np.float64:\n",
    "            column_contents = df[column].values.tolist()\n",
    "            unique_elements = set(column_contents)\n",
    "            x = 0\n",
    "            for unique in unique_elements:\n",
    "                if unique not in text_digit_vals:\n",
    "                    text_digit_vals[unique] = x\n",
    "                    x+=1\n",
    "\n",
    "            df[column] = list(map(convert_to_int, df[column]))\n",
    "\n",
    "    return df"
   ]
  },
  {
   "cell_type": "code",
   "execution_count": 29,
   "metadata": {
    "collapsed": false,
    "deletable": true,
    "editable": true
   },
   "outputs": [
    {
     "name": "stdout",
     "output_type": "stream",
     "text": [
      "   pclass  survived  sex      age  sibsp  parch      fare  cabin  embarked  \\\n",
      "0       1         1    1  29.0000      0      0  211.3375    175         3   \n",
      "1       1         1    0   0.9167      1      2  151.5500    143         3   \n",
      "2       1         0    1   2.0000      1      2  151.5500    143         3   \n",
      "3       1         0    0  30.0000      1      2  151.5500    143         3   \n",
      "4       1         0    1  25.0000      1      2  151.5500    143         3   \n",
      "\n",
      "   boat  \n",
      "0     1  \n",
      "1    19  \n",
      "2     0  \n",
      "3     0  \n",
      "4     0  \n"
     ]
    }
   ],
   "source": [
    "#handling out the non-numeric part\n",
    "df = handle_non_numerical_data(df)\n",
    "df.drop(['ticket','home.dest'], 1, inplace=True)\n",
    "print(df.head())"
   ]
  },
  {
   "cell_type": "code",
   "execution_count": 30,
   "metadata": {
    "collapsed": false,
    "deletable": true,
    "editable": true
   },
   "outputs": [
    {
     "data": {
      "text/plain": [
       "MeanShift(bandwidth=None, bin_seeding=False, cluster_all=True, min_bin_freq=1,\n",
       "     n_jobs=1, seeds=None)"
      ]
     },
     "execution_count": 30,
     "metadata": {},
     "output_type": "execute_result"
    }
   ],
   "source": [
    "#classification Time!!\n",
    "X = np.array(df.drop(['survived'], 1).astype(float))\n",
    "X = preprocessing.scale(X)\n",
    "y = np.array(df['survived'])\n",
    "\n",
    "clf = MeanShift()\n",
    "clf.fit(X)"
   ]
  },
  {
   "cell_type": "code",
   "execution_count": 31,
   "metadata": {
    "collapsed": false,
    "deletable": true,
    "editable": true
   },
   "outputs": [
    {
     "name": "stderr",
     "output_type": "stream",
     "text": [
      "/usr/local/lib/python3.5/dist-packages/pandas/core/indexing.py:141: SettingWithCopyWarning: \n",
      "A value is trying to be set on a copy of a slice from a DataFrame\n",
      "\n",
      "See the caveats in the documentation: http://pandas.pydata.org/pandas-docs/stable/indexing.html#indexing-view-versus-copy\n",
      "  self._setitem_with_indexer(indexer, value)\n"
     ]
    }
   ],
   "source": [
    "labels = clf.labels_\n",
    "cluster_centers = clf.cluster_centers_\n",
    "original_df['cluster_group']=np.nan\n",
    "for i in range(len(X)):\n",
    "    original_df['cluster_group'].iloc[i] = labels[i]"
   ]
  },
  {
   "cell_type": "code",
   "execution_count": 32,
   "metadata": {
    "collapsed": false
   },
   "outputs": [
    {
     "name": "stdout",
     "output_type": "stream",
     "text": [
      "{0: 0.3700404858299595, 1: 0.6415094339622641, 2: 1.0, 3: 0.1, 4: 1.0, 5: 0.5714285714285714}\n"
     ]
    }
   ],
   "source": [
    "#check the survival rates for each of the groups we happen to find\n",
    "n_clusters_ = len(np.unique(labels))\n",
    "survival_rates = {}\n",
    "for i in range(n_clusters_):\n",
    "    temp_df = original_df[ (original_df['cluster_group']==float(i)) ]\n",
    "    #print(temp_df.head())\n",
    "\n",
    "    survival_cluster = temp_df[  (temp_df['survived'] == 1) ]\n",
    "\n",
    "    survival_rate = len(survival_cluster) / len(temp_df)\n",
    "    #print(i,survival_rate)\n",
    "    survival_rates[i] = survival_rate\n",
    "    \n",
    "print(survival_rates)"
   ]
  },
  {
   "cell_type": "code",
   "execution_count": 33,
   "metadata": {
    "collapsed": false
   },
   "outputs": [
    {
     "name": "stdout",
     "output_type": "stream",
     "text": [
      "      pclass  survived                                               name  \\\n",
      "0          1         1                      Allen, Miss. Elisabeth Walton   \n",
      "1          1         1                     Allison, Master. Hudson Trevor   \n",
      "2          1         0                       Allison, Miss. Helen Loraine   \n",
      "3          1         0               Allison, Mr. Hudson Joshua Creighton   \n",
      "4          1         0    Allison, Mrs. Hudson J C (Bessie Waldo Daniels)   \n",
      "10         1         0                             Astor, Col. John Jacob   \n",
      "11         1         1  Astor, Mrs. John Jacob (Madeleine Talmadge Force)   \n",
      "16         1         0                           Baxter, Mr. Quigg Edmond   \n",
      "17         1         1    Baxter, Mrs. James (Helene DeLaudeniere Chaput)   \n",
      "23         1         1                              Bidois, Miss. Rosalie   \n",
      "24         1         1                                  Bird, Miss. Ellen   \n",
      "28         1         1                             Bissette, Miss. Amelia   \n",
      "32         1         1                            Bonnell, Miss. Caroline   \n",
      "35         1         1                           Bowen, Miss. Grace Scott   \n",
      "55         1         1                          Carter, Miss. Lucile Polk   \n",
      "57         1         1          Carter, Mrs. William Ernest (Lucile Polk)   \n",
      "66         1         1                        Chaudanson, Miss. Victorine   \n",
      "95         1         1              Dodge, Mrs. Washington (Ruth Vidaver)   \n",
      "97         1         1  Douglas, Mrs. Frederick Charles (Mary Helene B...   \n",
      "103        1         1                      Endres, Miss. Caroline Louise   \n",
      "106        1         0                                 Farthing, Mr. John   \n",
      "111        1         1                     Fortune, Miss. Alice Elizabeth   \n",
      "112        1         1                         Fortune, Miss. Ethel Flora   \n",
      "113        1         1                         Fortune, Miss. Mabel Helen   \n",
      "114        1         0                     Fortune, Mr. Charles Alexander   \n",
      "119        1         1                      Frauenthal, Dr. Henry William   \n",
      "121        1         1  Frauenthal, Mrs. Henry William (Clara Heinshei...   \n",
      "129        1         1                               Geiger, Miss. Amalie   \n",
      "180        1         1                             Kreuchen, Miss. Emilie   \n",
      "193        1         1                  Madill, Miss. Georgette Alexandra   \n",
      "213        1         1                            Newell, Miss. Madeleine   \n",
      "214        1         1                             Newell, Miss. Marjorie   \n",
      "238        1         1  Robert, Mrs. Edward Scott (Elisabeth Walton Mc...   \n",
      "249        1         1                        Ryerson, Master. John Borie   \n",
      "250        1         1                         Ryerson, Miss. Emily Borie   \n",
      "251        1         1              Ryerson, Miss. Susan Parker \"Suzette\"   \n",
      "285        1         0                                 Straus, Mr. Isidor   \n",
      "286        1         0             Straus, Mrs. Isidor (Rosalie Ida Blun)   \n",
      "291        1         1             Taussig, Mrs. Emil (Tillie Mandelbaum)   \n",
      "308        1         1              White, Mrs. John Stuart (Ella Holmes)   \n",
      "309        1         1                           Wick, Miss. Mary Natalie   \n",
      "311        1         1         Wick, Mrs. George Dennick (Mary Hitchcock)   \n",
      "312        1         0                         Widener, Mr. George Dunton   \n",
      "314        1         1       Widener, Mrs. George Dunton (Eleanor Elkins)   \n",
      "1170       3         0                         Sage, Master. Thomas Henry   \n",
      "1171       3         0                        Sage, Master. William Henry   \n",
      "1172       3         0                                    Sage, Miss. Ada   \n",
      "1173       3         0                       Sage, Miss. Constance Gladys   \n",
      "1174       3         0                  Sage, Miss. Dorothy Edith \"Dolly\"   \n",
      "1175       3         0                            Sage, Miss. Stella Anna   \n",
      "1176       3         0                           Sage, Mr. Douglas Bullen   \n",
      "1177       3         0                                Sage, Mr. Frederick   \n",
      "1178       3         0                           Sage, Mr. George John Jr   \n",
      "\n",
      "         sex      age  sibsp  parch    ticket      fare            cabin  \\\n",
      "0     female  29.0000      0      0     24160  211.3375               B5   \n",
      "1       male   0.9167      1      2    113781  151.5500          C22 C26   \n",
      "2     female   2.0000      1      2    113781  151.5500          C22 C26   \n",
      "3       male  30.0000      1      2    113781  151.5500          C22 C26   \n",
      "4     female  25.0000      1      2    113781  151.5500          C22 C26   \n",
      "10      male  47.0000      1      0  PC 17757  227.5250          C62 C64   \n",
      "11    female  18.0000      1      0  PC 17757  227.5250          C62 C64   \n",
      "16      male  24.0000      0      1  PC 17558  247.5208          B58 B60   \n",
      "17    female  50.0000      0      1  PC 17558  247.5208          B58 B60   \n",
      "23    female  42.0000      0      0  PC 17757  227.5250              NaN   \n",
      "24    female  29.0000      0      0  PC 17483  221.7792              C97   \n",
      "28    female  35.0000      0      0  PC 17760  135.6333              C99   \n",
      "32    female  30.0000      0      0     36928  164.8667               C7   \n",
      "35    female  45.0000      0      0  PC 17608  262.3750              NaN   \n",
      "55    female  14.0000      1      2    113760  120.0000          B96 B98   \n",
      "57    female  36.0000      1      2    113760  120.0000          B96 B98   \n",
      "66    female  36.0000      0      0  PC 17608  262.3750              B61   \n",
      "95    female  54.0000      1      1     33638   81.8583              A34   \n",
      "97    female  27.0000      1      1  PC 17558  247.5208          B58 B60   \n",
      "103   female  38.0000      0      0  PC 17757  227.5250              C45   \n",
      "106     male      NaN      0      0  PC 17483  221.7792              C95   \n",
      "111   female  24.0000      3      2     19950  263.0000      C23 C25 C27   \n",
      "112   female  28.0000      3      2     19950  263.0000      C23 C25 C27   \n",
      "113   female  23.0000      3      2     19950  263.0000      C23 C25 C27   \n",
      "114     male  19.0000      3      2     19950  263.0000      C23 C25 C27   \n",
      "119     male  50.0000      2      0  PC 17611  133.6500              NaN   \n",
      "121   female      NaN      1      0  PC 17611  133.6500              NaN   \n",
      "129   female  35.0000      0      0    113503  211.5000             C130   \n",
      "180   female  39.0000      0      0     24160  211.3375              NaN   \n",
      "193   female  15.0000      0      1     24160  211.3375               B5   \n",
      "213   female  31.0000      1      0     35273  113.2750              D36   \n",
      "214   female  23.0000      1      0     35273  113.2750              D36   \n",
      "238   female  43.0000      0      1     24160  211.3375               B3   \n",
      "249     male  13.0000      2      2  PC 17608  262.3750  B57 B59 B63 B66   \n",
      "250   female  18.0000      2      2  PC 17608  262.3750  B57 B59 B63 B66   \n",
      "251   female  21.0000      2      2  PC 17608  262.3750  B57 B59 B63 B66   \n",
      "285     male  67.0000      1      0  PC 17483  221.7792          C55 C57   \n",
      "286   female  63.0000      1      0  PC 17483  221.7792          C55 C57   \n",
      "291   female  39.0000      1      1    110413   79.6500              E67   \n",
      "308   female  55.0000      0      0  PC 17760  135.6333              C32   \n",
      "309   female  31.0000      0      2     36928  164.8667               C7   \n",
      "311   female  45.0000      1      1     36928  164.8667              NaN   \n",
      "312     male  50.0000      1      1    113503  211.5000              C80   \n",
      "314   female  50.0000      1      1    113503  211.5000              C80   \n",
      "1170    male      NaN      8      2  CA. 2343   69.5500              NaN   \n",
      "1171    male  14.5000      8      2  CA. 2343   69.5500              NaN   \n",
      "1172  female      NaN      8      2  CA. 2343   69.5500              NaN   \n",
      "1173  female      NaN      8      2  CA. 2343   69.5500              NaN   \n",
      "1174  female      NaN      8      2  CA. 2343   69.5500              NaN   \n",
      "1175  female      NaN      8      2  CA. 2343   69.5500              NaN   \n",
      "1176    male      NaN      8      2  CA. 2343   69.5500              NaN   \n",
      "1177    male      NaN      8      2  CA. 2343   69.5500              NaN   \n",
      "1178    male      NaN      8      2  CA. 2343   69.5500              NaN   \n",
      "\n",
      "     embarked boat   body                           home.dest  cluster_group  \n",
      "0           S    2    NaN                        St Louis, MO            1.0  \n",
      "1           S   11    NaN     Montreal, PQ / Chesterville, ON            1.0  \n",
      "2           S  NaN    NaN     Montreal, PQ / Chesterville, ON            1.0  \n",
      "3           S  NaN  135.0     Montreal, PQ / Chesterville, ON            1.0  \n",
      "4           S  NaN    NaN     Montreal, PQ / Chesterville, ON            1.0  \n",
      "10          C  NaN  124.0                        New York, NY            1.0  \n",
      "11          C    4    NaN                        New York, NY            1.0  \n",
      "16          C  NaN    NaN                        Montreal, PQ            1.0  \n",
      "17          C    6    NaN                        Montreal, PQ            1.0  \n",
      "23          C    4    NaN                                 NaN            1.0  \n",
      "24          S    8    NaN                                 NaN            1.0  \n",
      "28          S    8    NaN                                 NaN            1.0  \n",
      "32          S    8    NaN                      Youngstown, OH            1.0  \n",
      "35          C    4    NaN                     Cooperstown, NY            1.0  \n",
      "55          S    4    NaN                       Bryn Mawr, PA            1.0  \n",
      "57          S    4    NaN                       Bryn Mawr, PA            1.0  \n",
      "66          C    4    NaN                                 NaN            1.0  \n",
      "95          S    5    NaN                   San Francisco, CA            1.0  \n",
      "97          C    6    NaN                        Montreal, PQ            1.0  \n",
      "103         C    4    NaN                        New York, NY            1.0  \n",
      "106         S  NaN    NaN                                 NaN            1.0  \n",
      "111         S   10    NaN                        Winnipeg, MB            1.0  \n",
      "112         S   10    NaN                        Winnipeg, MB            1.0  \n",
      "113         S   10    NaN                        Winnipeg, MB            1.0  \n",
      "114         S  NaN    NaN                        Winnipeg, MB            1.0  \n",
      "119         S    5    NaN                        New York, NY            1.0  \n",
      "121         S    5    NaN                        New York, NY            1.0  \n",
      "129         C    4    NaN                                 NaN            1.0  \n",
      "180         S    2    NaN                                 NaN            1.0  \n",
      "193         S    2    NaN                        St Louis, MO            1.0  \n",
      "213         C    6    NaN                       Lexington, MA            1.0  \n",
      "214         C    6    NaN                       Lexington, MA            1.0  \n",
      "238         S    2    NaN                        St Louis, MO            1.0  \n",
      "249         C    4    NaN     Haverford, PA / Cooperstown, NY            1.0  \n",
      "250         C    4    NaN     Haverford, PA / Cooperstown, NY            1.0  \n",
      "251         C    4    NaN     Haverford, PA / Cooperstown, NY            1.0  \n",
      "285         S  NaN   96.0                        New York, NY            1.0  \n",
      "286         S  NaN    NaN                        New York, NY            1.0  \n",
      "291         S    8    NaN                        New York, NY            1.0  \n",
      "308         C    8    NaN  New York, NY / Briarcliff Manor NY            1.0  \n",
      "309         S    8    NaN                      Youngstown, OH            1.0  \n",
      "311         S    8    NaN                      Youngstown, OH            1.0  \n",
      "312         C  NaN    NaN                     Elkins Park, PA            1.0  \n",
      "314         C    4    NaN                     Elkins Park, PA            1.0  \n",
      "1170        S  NaN    NaN                                 NaN            1.0  \n",
      "1171        S  NaN   67.0                                 NaN            1.0  \n",
      "1172        S  NaN    NaN                                 NaN            1.0  \n",
      "1173        S  NaN    NaN                                 NaN            1.0  \n",
      "1174        S  NaN    NaN                                 NaN            1.0  \n",
      "1175        S  NaN    NaN                                 NaN            1.0  \n",
      "1176        S  NaN    NaN                                 NaN            1.0  \n",
      "1177        S  NaN    NaN                                 NaN            1.0  \n",
      "1178        S  NaN    NaN                                 NaN            1.0  \n"
     ]
    }
   ],
   "source": [
    "#dive deeper\n",
    "print(original_df[ (original_df['cluster_group']==1) ])"
   ]
  },
  {
   "cell_type": "code",
   "execution_count": 34,
   "metadata": {
    "collapsed": false
   },
   "outputs": [
    {
     "name": "stdout",
     "output_type": "stream",
     "text": [
      "            pclass     survived         age        sibsp        parch  \\\n",
      "count  1235.000000  1235.000000  984.000000  1235.000000  1235.000000   \n",
      "mean      2.341700     0.370040   29.453506     0.429150     0.297166   \n",
      "std       0.812086     0.483011   14.258923     0.834114     0.647862   \n",
      "min       1.000000     0.000000    0.166700     0.000000     0.000000   \n",
      "25%       2.000000     0.000000   21.000000     0.000000     0.000000   \n",
      "50%       3.000000     0.000000   28.000000     0.000000     0.000000   \n",
      "75%       3.000000     1.000000   38.000000     1.000000     0.000000   \n",
      "max       3.000000     1.000000   80.000000     5.000000     4.000000   \n",
      "\n",
      "              fare        body  cluster_group  \n",
      "count  1234.000000  115.000000         1235.0  \n",
      "mean     24.552984  161.452174            0.0  \n",
      "std      27.131538   98.333504            0.0  \n",
      "min       0.000000    1.000000            0.0  \n",
      "25%       7.895800   71.000000            0.0  \n",
      "50%      13.000000  165.000000            0.0  \n",
      "75%      27.720800  257.000000            0.0  \n",
      "max     227.525000  328.000000            0.0  \n"
     ]
    }
   ],
   "source": [
    "#check for group zero\n",
    "print(original_df[ (original_df['cluster_group']==0) ].describe())"
   ]
  },
  {
   "cell_type": "code",
   "execution_count": 36,
   "metadata": {
    "collapsed": false
   },
   "outputs": [
    {
     "name": "stdout",
     "output_type": "stream",
     "text": [
      "          pclass   survived        age     sibsp      parch        fare  \\\n",
      "count  53.000000  53.000000  43.000000  53.00000  53.000000   53.000000   \n",
      "mean    1.339623   0.641509  32.753877   2.09434   1.056604  175.035457   \n",
      "std     0.758120   0.484146  15.177508   2.82342   0.907556   69.963427   \n",
      "min     1.000000   0.000000   0.916700   0.00000   0.000000   69.550000   \n",
      "25%     1.000000   0.000000  23.000000   0.00000   0.000000  120.000000   \n",
      "50%     1.000000   1.000000  31.000000   1.00000   1.000000  211.337500   \n",
      "75%     1.000000   1.000000  44.000000   2.00000   2.000000  227.525000   \n",
      "max     3.000000   1.000000  67.000000   8.00000   2.000000  263.000000   \n",
      "\n",
      "             body  cluster_group  \n",
      "count    4.000000           53.0  \n",
      "mean   105.500000            1.0  \n",
      "std     30.468563            0.0  \n",
      "min     67.000000            1.0  \n",
      "25%     88.750000            1.0  \n",
      "50%    110.000000            1.0  \n",
      "75%    126.750000            1.0  \n",
      "max    135.000000            1.0  \n"
     ]
    }
   ],
   "source": [
    "#check for group one\n",
    "print(original_df[ (original_df['cluster_group']==1) ].describe())"
   ]
  },
  {
   "cell_type": "code",
   "execution_count": null,
   "metadata": {
    "collapsed": true
   },
   "outputs": [],
   "source": []
  }
 ],
 "metadata": {
  "kernelspec": {
   "display_name": "Python 3",
   "language": "python",
   "name": "python3"
  },
  "language_info": {
   "codemirror_mode": {
    "name": "ipython",
    "version": 3
   },
   "file_extension": ".py",
   "mimetype": "text/x-python",
   "name": "python",
   "nbconvert_exporter": "python",
   "pygments_lexer": "ipython3",
   "version": "3.5.2"
  }
 },
 "nbformat": 4,
 "nbformat_minor": 2
}
